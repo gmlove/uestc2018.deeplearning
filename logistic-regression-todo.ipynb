{
 "cells": [
  {
   "cell_type": "code",
   "execution_count": null,
   "metadata": {},
   "outputs": [],
   "source": [
    "import numpy as np\n",
    "import matplotlib.pyplot as plt\n",
    "import h5py\n",
    "import scipy\n",
    "from PIL import Image\n",
    "from scipy import ndimage\n",
    "import utils\n",
    "\n",
    "%matplotlib inline"
   ]
  },
  {
   "cell_type": "code",
   "execution_count": null,
   "metadata": {},
   "outputs": [],
   "source": [
    "# 加载数据集\n",
    "X, Y, test_X, test_Y, classes = utils.load_dataset()\n",
    "# TODO: 检查数据集里面的数据结构，维度\n",
    "\n"
   ]
  },
  {
   "cell_type": "code",
   "execution_count": null,
   "metadata": {},
   "outputs": [],
   "source": [
    "# TODO: 检查训练数据图片\n",
    "\n"
   ]
  },
  {
   "cell_type": "code",
   "execution_count": null,
   "metadata": {},
   "outputs": [],
   "source": [
    "# TODO: 将图片变平，转成向量，以便可以输入logistic regression里面\n",
    "\n"
   ]
  },
  {
   "cell_type": "markdown",
   "metadata": {},
   "source": [
    "<img src=\"images/LogReg_kiank.png\" style=\"width:650px;height:400px;\">\n",
    "\n",
    "**算法的数学表达式**:\n",
    "\n",
    "对于某一张图片 $x^{(i)}$:\n",
    "$$z^{(i)} = w^T x^{(i)} + b \\tag{1}$$\n",
    "$$\\hat{y}^{(i)} = a^{(i)} = sigmoid(z^{(i)}), sigmoid(z) = \\frac{1}{1 + e^{-z}}\\tag{2}$$ \n",
    "$$ \\mathcal{L}(a^{(i)}, y^{(i)}) =  - y^{(i)}  \\log(a^{(i)}) - (1-y^{(i)} )  \\log(1-a^{(i)})\\tag{3}$$\n",
    "\n",
    "总损失为所有的图片数据的损失之和：\n",
    "$$ J = \\frac{1}{m} \\sum_{i=1}^m \\mathcal{L}(a^{(i)}, y^{(i)})\\tag{4}$$\n",
    "\n",
    "w和b的梯度为：\n",
    "$$ \\frac{\\partial J}{\\partial w} = \\frac{1}{m}X(A - Y)^T \\tag{5}$$\n",
    "$$ \\frac{\\partial J}{\\partial b} = \\frac{1}{m}\\sum_{i=1}^m(a^{(i)} - y^{(i)}) \\tag{6}$$"
   ]
  },
  {
   "cell_type": "code",
   "execution_count": null,
   "metadata": {},
   "outputs": [],
   "source": [
    "def propagate(w, b, X, Y):\n",
    "  # TODO: 实现上面公式里面的算法, X: (209, 12288), Y: (209, 1), w: (12288, 1), b: (1)\n",
    "  # 结果保存为变量 A, cost, dw, db\n",
    "  \n",
    "  # code here\n",
    "  \n",
    "  return A, cost, (dw, db)\n",
    "\n",
    "def model(X, Y, test_X, test_Y):\n",
    "  w = np.zeros((X.shape[1], 1))\n",
    "  b = 0\n",
    "  \n",
    "  X = X / 255.0\n",
    "  test_X = test_X / 255.0\n",
    "\n",
    "  num_iterations = 1000\n",
    "  learning_rate = 0.005\n",
    "  \n",
    "  for i in range(num_iterations):\n",
    "    A, cost, (dw, db) = propagate(w, b, X, Y)\n",
    "    w = w - learning_rate * dw\n",
    "    b = b - learning_rate * db\n",
    "    \n",
    "    if (i + 1) % 100 == 0:\n",
    "      print('cost after iteration {}: {}'.format((i + 1), cost))\n",
    "\n",
    "      Y_predict = A > 0.5\n",
    "      accuracy = np.sum(Y_predict == Y) / float(Y.shape[0])\n",
    "      print('train accuracy after iteration {}: {:.2f}%'.format((i + 1), accuracy * 100))\n",
    "      \n",
    "      test_A, _, _ = propagate(w, b, test_X, test_Y)\n",
    "      test_Y_predict = test_A > 0.5\n",
    "      test_accuracy = np.sum(test_Y_predict == test_Y) / float(test_Y.shape[0])\n",
    "      print('test accuracy after iteration {}: {:.2f}%\\n'.format((i + 1), test_accuracy * 100))\n",
    "\n",
    "\n",
    "model(X, Y, test_X, test_Y)"
   ]
  },
  {
   "cell_type": "code",
   "execution_count": null,
   "metadata": {},
   "outputs": [],
   "source": []
  }
 ],
 "metadata": {
  "kernelspec": {
   "display_name": "Python 3",
   "language": "python",
   "name": "python3"
  },
  "language_info": {
   "codemirror_mode": {
    "name": "ipython",
    "version": 3
   },
   "file_extension": ".py",
   "mimetype": "text/x-python",
   "name": "python",
   "nbconvert_exporter": "python",
   "pygments_lexer": "ipython3",
   "version": "3.6.4"
  }
 },
 "nbformat": 4,
 "nbformat_minor": 2
}
