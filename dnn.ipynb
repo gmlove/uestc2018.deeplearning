{
 "cells": [
  {
   "cell_type": "code",
   "execution_count": 3,
   "metadata": {},
   "outputs": [],
   "source": [
    "import numpy as np\n",
    "import matplotlib.pyplot as plt\n",
    "import tensorflow as tf\n",
    "import utils"
   ]
  },
  {
   "cell_type": "code",
   "execution_count": 66,
   "metadata": {},
   "outputs": [],
   "source": [
    "numpy_input_fn = tf.estimator.inputs.numpy_input_fn\n",
    "\n",
    "X, Y, test_X, test_Y, classes = utils.load_dataset()\n",
    "X = X.reshape(X.shape[0], -1) / 255.\n",
    "Y = Y.reshape(-1)\n",
    "test_X = test_X.reshape(test_X.shape[0], -1) / 255.\n",
    "test_Y = test_Y.reshape(-1)\n",
    "\n",
    "learning_rate = 0.0005"
   ]
  },
  {
   "cell_type": "code",
   "execution_count": 129,
   "metadata": {},
   "outputs": [
    {
     "name": "stdout",
     "output_type": "stream",
     "text": [
      "INFO:tensorflow:Using default config.\n",
      "WARNING:tensorflow:Using temporary folder as model directory: /var/folders/lj/b2trvfyj0mjbjf90yx92y6d80000gn/T/tmpgecyrpk4\n",
      "INFO:tensorflow:Using config: {'_model_dir': '/var/folders/lj/b2trvfyj0mjbjf90yx92y6d80000gn/T/tmpgecyrpk4', '_tf_random_seed': None, '_save_summary_steps': 100, '_save_checkpoints_steps': None, '_save_checkpoints_secs': 600, '_session_config': None, '_keep_checkpoint_max': 5, '_keep_checkpoint_every_n_hours': 10000, '_log_step_count_steps': 100, '_service': None, '_cluster_spec': <tensorflow.python.training.server_lib.ClusterSpec object at 0x124f6f588>, '_task_type': 'worker', '_task_id': 0, '_global_id_in_cluster': 0, '_master': '', '_evaluation_master': '', '_is_chief': True, '_num_ps_replicas': 0, '_num_worker_replicas': 1}\n",
      "INFO:tensorflow:Calling model_fn.\n",
      "INFO:tensorflow:Done calling model_fn.\n",
      "INFO:tensorflow:Create CheckpointSaverHook.\n",
      "INFO:tensorflow:Graph was finalized.\n",
      "INFO:tensorflow:Running local_init_op.\n",
      "INFO:tensorflow:Done running local_init_op.\n",
      "INFO:tensorflow:Saving checkpoints for 1 into /var/folders/lj/b2trvfyj0mjbjf90yx92y6d80000gn/T/tmpgecyrpk4/model.ckpt.\n",
      "INFO:tensorflow:loss = 42.125465, step = 1\n",
      "INFO:tensorflow:global_step/sec: 140.376\n",
      "INFO:tensorflow:loss = 35.90153, step = 101 (0.714 sec)\n",
      "INFO:tensorflow:global_step/sec: 95.6257\n",
      "INFO:tensorflow:loss = 26.242914, step = 201 (1.045 sec)\n",
      "INFO:tensorflow:global_step/sec: 113.137\n",
      "INFO:tensorflow:loss = 30.207579, step = 301 (0.885 sec)\n",
      "INFO:tensorflow:global_step/sec: 115.818\n",
      "INFO:tensorflow:loss = 24.106892, step = 401 (0.863 sec)\n",
      "INFO:tensorflow:global_step/sec: 159.767\n",
      "INFO:tensorflow:loss = 23.02919, step = 501 (0.625 sec)\n",
      "INFO:tensorflow:global_step/sec: 177.566\n",
      "INFO:tensorflow:loss = 17.703129, step = 601 (0.563 sec)\n",
      "INFO:tensorflow:global_step/sec: 152.294\n",
      "INFO:tensorflow:loss = 16.38105, step = 701 (0.657 sec)\n",
      "INFO:tensorflow:global_step/sec: 91.6389\n",
      "INFO:tensorflow:loss = 25.06724, step = 801 (1.091 sec)\n",
      "INFO:tensorflow:global_step/sec: 168.837\n",
      "INFO:tensorflow:loss = 15.125661, step = 901 (0.592 sec)\n",
      "INFO:tensorflow:Saving checkpoints for 980 into /var/folders/lj/b2trvfyj0mjbjf90yx92y6d80000gn/T/tmpgecyrpk4/model.ckpt.\n",
      "INFO:tensorflow:Loss for final step: 9.53533.\n",
      "##################################\n",
      "INFO:tensorflow:Calling model_fn.\n",
      "INFO:tensorflow:Done calling model_fn.\n",
      "INFO:tensorflow:Starting evaluation at 2018-06-21-12:56:45\n",
      "INFO:tensorflow:Graph was finalized.\n",
      "INFO:tensorflow:Restoring parameters from /var/folders/lj/b2trvfyj0mjbjf90yx92y6d80000gn/T/tmpgecyrpk4/model.ckpt-980\n",
      "INFO:tensorflow:Running local_init_op.\n",
      "INFO:tensorflow:Done running local_init_op.\n",
      "INFO:tensorflow:Finished evaluation at 2018-06-21-12:56:45\n",
      "INFO:tensorflow:Saving dict for global step 980: accuracy = 0.97129184, accuracy_baseline = 0.6555024, auc = 0.99452555, auc_precision_recall = 0.98933554, average_loss = 0.13990311, global_step = 980, label/mean = 0.34449762, loss = 7.3099375, prediction/mean = 0.31519136\n",
      "##################################\n",
      "INFO:tensorflow:Calling model_fn.\n",
      "INFO:tensorflow:Done calling model_fn.\n",
      "INFO:tensorflow:Starting evaluation at 2018-06-21-12:56:46\n",
      "INFO:tensorflow:Graph was finalized.\n",
      "INFO:tensorflow:Restoring parameters from /var/folders/lj/b2trvfyj0mjbjf90yx92y6d80000gn/T/tmpgecyrpk4/model.ckpt-980\n",
      "INFO:tensorflow:Running local_init_op.\n",
      "INFO:tensorflow:Done running local_init_op.\n",
      "INFO:tensorflow:Finished evaluation at 2018-06-21-12:56:46\n",
      "INFO:tensorflow:Saving dict for global step 980: accuracy = 0.72, accuracy_baseline = 0.66, auc = 0.7834224, auc_precision_recall = 0.82436293, average_loss = 0.9487519, global_step = 980, label/mean = 0.66, loss = 47.437595, prediction/mean = 0.44978404\n"
     ]
    },
    {
     "data": {
      "text/plain": [
       "{'accuracy': 0.72,\n",
       " 'accuracy_baseline': 0.66,\n",
       " 'auc': 0.7834224,\n",
       " 'auc_precision_recall': 0.82436293,\n",
       " 'average_loss': 0.9487519,\n",
       " 'global_step': 980,\n",
       " 'label/mean': 0.66,\n",
       " 'loss': 47.437595,\n",
       " 'prediction/mean': 0.44978404}"
      ]
     },
     "execution_count": 129,
     "metadata": {},
     "output_type": "execute_result"
    }
   ],
   "source": [
    "feature_x = tf.feature_column.numeric_column('feature_x', shape=(X.shape[1]))\n",
    "optimizer = tf.train.GradientDescentOptimizer(learning_rate=learning_rate)\n",
    "\n",
    "estimator = tf.estimator.DNNClassifier(\n",
    "  feature_columns=[feature_x], hidden_units=[16], optimizer=optimizer, n_classes=2)\n",
    "\n",
    "input_fn_train = numpy_input_fn(x={'feature_x': X}, y=Y, batch_size=64, shuffle=True, num_epochs=300)\n",
    "input_fn_train_1 = numpy_input_fn(x={'feature_x': X}, y=Y, batch_size=64, shuffle=False)\n",
    "input_fn_test = numpy_input_fn(x={'feature_x': test_X}, y=test_Y, batch_size=64, shuffle=False)\n",
    "\n",
    "estimator.train(input_fn_train)\n",
    "print('##################################')\n",
    "estimator.evaluate(input_fn_train_1)\n",
    "print('##################################')\n",
    "estimator.evaluate(input_fn_test)"
   ]
  },
  {
   "cell_type": "code",
   "execution_count": 165,
   "metadata": {},
   "outputs": [
    {
     "name": "stdout",
     "output_type": "stream",
     "text": [
      "[0.06666667 0.12156863 0.21960784 ... 0.         0.         0.        ] 0\n",
      "[0.32156863 0.27843137 0.26666667 ... 0.54117647 0.55294118 0.55686275] 1\n",
      "training loss: 13.40841293334961, accuracy: 0.6076555252075195\n",
      "testing accuracy: 0.2800000011920929\n",
      "training loss: 4.891404628753662, accuracy: 0.540669858455658\n",
      "testing accuracy: 0.5400000214576721\n",
      "training loss: 3.4552433490753174, accuracy: 0.5693780183792114\n",
      "testing accuracy: 0.5400000214576721\n",
      "training loss: 2.8382580280303955, accuracy: 0.5741626620292664\n",
      "testing accuracy: 0.5600000023841858\n",
      "training loss: 2.4748759269714355, accuracy: 0.5885167717933655\n",
      "testing accuracy: 0.5799999833106995\n",
      "training loss: 2.207217216491699, accuracy: 0.5933014154434204\n",
      "testing accuracy: 0.5799999833106995\n",
      "training loss: 1.9726080894470215, accuracy: 0.5933014154434204\n",
      "testing accuracy: 0.5799999833106995\n",
      "training loss: 1.7954493761062622, accuracy: 0.5980861186981201\n",
      "testing accuracy: 0.6000000238418579\n",
      "training loss: 1.618738055229187, accuracy: 0.6076555252075195\n",
      "testing accuracy: 0.6000000238418579\n",
      "training loss: 1.4491608142852783, accuracy: 0.6220095753669739\n",
      "testing accuracy: 0.6000000238418579\n"
     ]
    }
   ],
   "source": [
    "print(X[0], Y[0])\n",
    "print(X[2], Y[2])\n",
    "with tf.Graph().as_default():\n",
    "  tf.set_random_seed(5)\n",
    "  session = tf.InteractiveSession()\n",
    "  \n",
    "  X_ph = tf.placeholder(dtype=tf.float32, shape=(None, X.shape[1]))\n",
    "  Y_ph = tf.placeholder(dtype=tf.float32, shape=(None, 1))\n",
    "  \n",
    "  W1 = tf.get_variable('W1', shape=(X.shape[1], 16), dtype=tf.float32, initializer=tf.truncated_normal_initializer())\n",
    "  b1 = tf.get_variable('b1', shape=(16), dtype=tf.float32, initializer=tf.zeros_initializer())\n",
    "  \n",
    "  X_ = tf.nn.relu(tf.matmul(X_ph, W1) + b1)\n",
    "  \n",
    "  W2 = tf.get_variable('W2', shape=(16, 1), dtype=tf.float32, initializer=tf.truncated_normal_initializer())\n",
    "  b2 = tf.get_variable('b2', shape=(1), dtype=tf.float32, initializer=tf.zeros_initializer())\n",
    "  \n",
    "  A = tf.matmul(X_, W2) + b2\n",
    "  \n",
    "  loss = tf.nn.sigmoid_cross_entropy_with_logits(logits=A, labels=Y_ph)\n",
    "  loss = tf.reduce_mean(loss)\n",
    "  accuracy = tf.reduce_sum(\n",
    "    tf.cast(tf.equal(tf.greater(tf.sigmoid(A), 0.5), tf.greater(Y_ph, 0.5)), dtype=tf.float32)) / tf.cast(tf.shape(X_ph)[0], dtype=tf.float32)\n",
    "  \n",
    "  train_op = tf.train.GradientDescentOptimizer(learning_rate=0.001).minimize(loss)\n",
    "  \n",
    "  session.run(tf.global_variables_initializer())\n",
    "\n",
    "  num_iterations = 500\n",
    "  for i in range(num_iterations):\n",
    "    _, loss_num = session.run([train_op, loss], feed_dict={X_ph: X, Y_ph: Y[:, np.newaxis]})\n",
    "    \n",
    "    if i % 50 == 0:\n",
    "      accuracy_num = session.run(accuracy, feed_dict={X_ph: X, Y_ph: Y[:, np.newaxis]})\n",
    "      print('training loss: {}, accuracy: {}'.format(loss_num, accuracy_num))\n",
    "      accuracy_num = session.run(accuracy, feed_dict={X_ph: test_X, Y_ph: test_Y[:, np.newaxis]})\n",
    "      print('testing accuracy: {}'.format(accuracy_num))\n",
    "\n"
   ]
  }
 ],
 "metadata": {
  "kernelspec": {
   "display_name": "Python 3",
   "language": "python",
   "name": "python3"
  },
  "language_info": {
   "codemirror_mode": {
    "name": "ipython",
    "version": 3
   },
   "file_extension": ".py",
   "mimetype": "text/x-python",
   "name": "python",
   "nbconvert_exporter": "python",
   "pygments_lexer": "ipython3",
   "version": "3.6.4"
  }
 },
 "nbformat": 4,
 "nbformat_minor": 2
}
