{
 "cells": [
  {
   "cell_type": "markdown",
   "metadata": {},
   "source": [
    "图像识别问题数据集：\n",
    "<img src=\"images/cnn-dataset.png\" style=\"width:450px;height:300px;\">\n",
    "LeNet 5 模型:\n",
    "<img src=\"images/lenet-5.png\" style=\"width:850px;height:300px;\">"
   ]
  },
  {
   "cell_type": "code",
   "execution_count": 9,
   "metadata": {},
   "outputs": [],
   "source": [
    "import matplotlib.pyplot as plt\n",
    "import numpy as np\n",
    "import tensorflow as tf\n",
    "%matplotlib inline"
   ]
  },
  {
   "cell_type": "code",
   "execution_count": 10,
   "metadata": {},
   "outputs": [
    {
     "name": "stdout",
     "output_type": "stream",
     "text": [
      "Extracting MNIST_data/train-images-idx3-ubyte.gz\n",
      "Extracting MNIST_data/train-labels-idx1-ubyte.gz\n",
      "Extracting MNIST_data/t10k-images-idx3-ubyte.gz\n",
      "Extracting MNIST_data/t10k-labels-idx1-ubyte.gz\n",
      "train images: (55000, 784), train labels: (55000, 10), validation images: (5000, 784), validation labels: (5000, 10)\n"
     ]
    }
   ],
   "source": [
    "from tensorflow.examples.tutorials.mnist import input_data\n",
    "mnist = input_data.read_data_sets(\"MNIST_data/\", one_hot=True)\n",
    "print('train images: {}, train labels: {}, validation images: {}, validation labels: {}'.format(\n",
    "  mnist.train.images.shape, mnist.train.labels.shape, mnist.validation.images.shape, mnist.validation.labels.shape\n",
    "))"
   ]
  },
  {
   "cell_type": "code",
   "execution_count": 11,
   "metadata": {},
   "outputs": [
    {
     "name": "stdout",
     "output_type": "stream",
     "text": [
      "label is: 7\n"
     ]
    },
    {
     "data": {
      "image/png": "[encoded data removed]",
      "text/plain": [
       "<matplotlib.figure.Figure at 0x122441ef0>"
      ]
     },
     "metadata": {},
     "output_type": "display_data"
    }
   ],
   "source": [
    "idx = 100\n",
    "plt.imshow(mnist.train.images[idx].reshape(28, 28))\n",
    "print('label is: {}'.format(np.argmax(mnist.train.labels[idx])))"
   ]
  },
  {
   "cell_type": "code",
   "execution_count": 12,
   "metadata": {},
   "outputs": [
    {
     "name": "stdout",
     "output_type": "stream",
     "text": [
      "INFO:tensorflow:Using the Keras model provided.\n",
      "INFO:tensorflow:Using default config.\n",
      "WARNING:tensorflow:Using temporary folder as model directory: /var/folders/lj/b2trvfyj0mjbjf90yx92y6d80000gn/T/tmpfplgq5h5\n",
      "INFO:tensorflow:Using config: {'_model_dir': '/var/folders/lj/b2trvfyj0mjbjf90yx92y6d80000gn/T/tmpfplgq5h5', '_tf_random_seed': None, '_save_summary_steps': 100, '_save_checkpoints_steps': None, '_save_checkpoints_secs': 600, '_session_config': None, '_keep_checkpoint_max': 5, '_keep_checkpoint_every_n_hours': 10000, '_log_step_count_steps': 100, '_service': None, '_cluster_spec': <tensorflow.python.training.server_lib.ClusterSpec object at 0x12664c518>, '_task_type': 'worker', '_task_id': 0, '_global_id_in_cluster': 0, '_master': '', '_evaluation_master': '', '_is_chief': True, '_num_ps_replicas': 0, '_num_worker_replicas': 1}\n",
      "INFO:tensorflow:Calling model_fn.\n",
      "INFO:tensorflow:Done calling model_fn.\n",
      "INFO:tensorflow:Create CheckpointSaverHook.\n",
      "INFO:tensorflow:Graph was finalized.\n",
      "INFO:tensorflow:Restoring parameters from /var/folders/lj/b2trvfyj0mjbjf90yx92y6d80000gn/T/tmpfplgq5h5/keras_model.ckpt\n",
      "INFO:tensorflow:Running local_init_op.\n",
      "INFO:tensorflow:Done running local_init_op.\n",
      "INFO:tensorflow:Saving checkpoints for 1 into /var/folders/lj/b2trvfyj0mjbjf90yx92y6d80000gn/T/tmpfplgq5h5/model.ckpt.\n",
      "INFO:tensorflow:loss = 2.30931, step = 1\n",
      "INFO:tensorflow:global_step/sec: 26.441\n",
      "INFO:tensorflow:loss = 2.2629533, step = 101 (3.783 sec)\n",
      "INFO:tensorflow:global_step/sec: 28.5265\n",
      "INFO:tensorflow:loss = 2.0990543, step = 201 (3.506 sec)\n",
      "INFO:tensorflow:global_step/sec: 23.6662\n",
      "INFO:tensorflow:loss = 1.0516864, step = 301 (4.225 sec)\n",
      "INFO:tensorflow:global_step/sec: 26.7021\n",
      "INFO:tensorflow:loss = 0.5247734, step = 401 (3.745 sec)\n",
      "INFO:tensorflow:global_step/sec: 24.5118\n",
      "INFO:tensorflow:loss = 0.42477208, step = 501 (4.080 sec)\n",
      "INFO:tensorflow:global_step/sec: 24.4312\n",
      "INFO:tensorflow:loss = 0.3901879, step = 601 (4.093 sec)\n",
      "INFO:tensorflow:global_step/sec: 24.4373\n",
      "INFO:tensorflow:loss = 0.24548489, step = 701 (4.092 sec)\n",
      "INFO:tensorflow:global_step/sec: 22.7112\n",
      "INFO:tensorflow:loss = 0.25481707, step = 801 (4.403 sec)\n",
      "INFO:tensorflow:global_step/sec: 23.0306\n",
      "INFO:tensorflow:loss = 0.37265205, step = 901 (4.342 sec)\n",
      "INFO:tensorflow:global_step/sec: 20.7232\n",
      "INFO:tensorflow:loss = 0.24708241, step = 1001 (4.825 sec)\n",
      "INFO:tensorflow:global_step/sec: 23.1409\n",
      "INFO:tensorflow:loss = 0.13215202, step = 1101 (4.323 sec)\n",
      "INFO:tensorflow:global_step/sec: 23.5067\n",
      "INFO:tensorflow:loss = 0.20464659, step = 1201 (4.252 sec)\n",
      "INFO:tensorflow:Saving checkpoints for 1291 into /var/folders/lj/b2trvfyj0mjbjf90yx92y6d80000gn/T/tmpfplgq5h5/model.ckpt.\n",
      "INFO:tensorflow:Loss for final step: 0.09968871.\n",
      "INFO:tensorflow:Calling model_fn.\n",
      "INFO:tensorflow:Done calling model_fn.\n",
      "INFO:tensorflow:Graph was finalized.\n",
      "INFO:tensorflow:Restoring parameters from /var/folders/lj/b2trvfyj0mjbjf90yx92y6d80000gn/T/tmpfplgq5h5/model.ckpt-1291\n",
      "INFO:tensorflow:Running local_init_op.\n",
      "INFO:tensorflow:Done running local_init_op.\n",
      "accuracy: 0.9284\n"
     ]
    }
   ],
   "source": [
    "Model = tf.keras.models.Model\n",
    "Input, Reshape, Dense, Conv2D = tf.keras.Input, tf.keras.layers.Reshape, tf.keras.layers.Dense, tf.keras.layers.Conv2D\n",
    "MaxPooling2D, Flatten = tf.keras.layers.MaxPooling2D, tf.keras.layers.Flatten\n",
    "\n",
    "x = x_ = Input(shape=(784, ), name='lenet_input')\n",
    "x_ = Reshape(target_shape=(28, 28, 1))(x_)\n",
    "x_ = Conv2D(6, kernel_size=(5, 5), strides=1, padding='same', activation='relu')(x_)\n",
    "x_ = MaxPooling2D(pool_size=(2, 2), strides=2)(x_)\n",
    "x_ = Conv2D(16, kernel_size=(5, 5), strides=1, activation='relu')(x_)\n",
    "x_ = MaxPooling2D(pool_size=(2, 2), strides=2)(x_)\n",
    "x_ = Flatten()(x_)\n",
    "x_ = Dense(120, activation='relu')(x_)\n",
    "x_ = Dense(84, activation='relu')(x_)\n",
    "y = x_ = Dense(10, activation='softmax', name='lenet_output')(x_)\n",
    "\n",
    "model = Model(x, y)\n",
    "model.compile(optimizer='sgd', loss='categorical_crossentropy', metric='categorical_accuracy')\n",
    "lenet5 = tf.keras.estimator.model_to_estimator(keras_model=model)\n",
    "\n",
    "train_input_fn = tf.estimator.inputs.numpy_input_fn(\n",
    "    x={\"lenet_input\": mnist.train.images}, y=mnist.train.labels, num_epochs=3, shuffle=True)\n",
    "lenet5.train(train_input_fn)\n",
    "\n",
    "validation_input_fn = tf.estimator.inputs.numpy_input_fn(\n",
    "    x={\"lenet_input\": mnist.validation.images}, y=mnist.validation.labels, num_epochs=1, shuffle=False)\n",
    "predictions = lenet5.predict(validation_input_fn)\n",
    "num_correct = np.sum(np.argmax(mnist.validation.labels, axis=-1) == [np.argmax(p['lenet_output']) for p in predictions])\n",
    "print('accuracy: {}'.format(num_correct / len(mnist.validation.labels)))\n"
   ]
  },
  {
   "cell_type": "code",
   "execution_count": null,
   "metadata": {},
   "outputs": [],
   "source": []
  }
 ],
 "metadata": {
  "kernelspec": {
   "display_name": "Python 3",
   "language": "python",
   "name": "python3"
  },
  "language_info": {
   "codemirror_mode": {
    "name": "ipython",
    "version": 3
   },
   "file_extension": ".py",
   "mimetype": "text/x-python",
   "name": "python",
   "nbconvert_exporter": "python",
   "pygments_lexer": "ipython3",
   "version": "3.6.4"
  }
 },
 "nbformat": 4,
 "nbformat_minor": 2
}
