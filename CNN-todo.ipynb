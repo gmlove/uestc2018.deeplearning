{
 "cells": [
  {
   "cell_type": "markdown",
   "metadata": {},
   "source": [
    "图像识别问题数据集：\n",
    "<img src=\"images/cnn-dataset.png\" style=\"width:450px;height:300px;\">\n",
    "LeNet 5 模型:\n",
    "<img src=\"images/lenet-5.png\" style=\"width:850px;height:300px;\">"
   ]
  },
  {
   "cell_type": "code",
   "execution_count": null,
   "metadata": {},
   "outputs": [],
   "source": [
    "import matplotlib.pyplot as plt\n",
    "import numpy as np\n",
    "import tensorflow as tf\n",
    "%matplotlib inline"
   ]
  },
  {
   "cell_type": "code",
   "execution_count": null,
   "metadata": {},
   "outputs": [],
   "source": [
    "from tensorflow.examples.tutorials.mnist import input_data\n",
    "mnist = input_data.read_data_sets(\"MNIST_data/\", one_hot=True)\n",
    "# TODO: 检查训练集，验证集的数据维度\n",
    "\n"
   ]
  },
  {
   "cell_type": "code",
   "execution_count": null,
   "metadata": {},
   "outputs": [],
   "source": [
    "# TODO: 检查训练集中的图片\n",
    "\n"
   ]
  },
  {
   "cell_type": "code",
   "execution_count": null,
   "metadata": {},
   "outputs": [],
   "source": [
    "Model = tf.keras.models.Model\n",
    "Input, Reshape, Dense, Conv2D = tf.keras.Input, tf.keras.layers.Reshape, tf.keras.layers.Dense, tf.keras.layers.Conv2D\n",
    "MaxPooling2D, Flatten = tf.keras.layers.MaxPooling2D, tf.keras.layers.Flatten\n",
    "numpy_input_fn = tf.estimator.inputs.numpy_input_fn\n",
    "\n",
    "# TODO: implement LeNet-5\n",
    "\n"
   ]
  },
  {
   "cell_type": "code",
   "execution_count": null,
   "metadata": {},
   "outputs": [],
   "source": []
  }
 ],
 "metadata": {
  "kernelspec": {
   "display_name": "Python 3",
   "language": "python",
   "name": "python3"
  },
  "language_info": {
   "codemirror_mode": {
    "name": "ipython",
    "version": 3
   },
   "file_extension": ".py",
   "mimetype": "text/x-python",
   "name": "python",
   "nbconvert_exporter": "python",
   "pygments_lexer": "ipython3",
   "version": "3.6.4"
  }
 },
 "nbformat": 4,
 "nbformat_minor": 2
}
