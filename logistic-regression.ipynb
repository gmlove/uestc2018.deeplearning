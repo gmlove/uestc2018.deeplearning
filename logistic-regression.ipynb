{
 "cells": [
  {
   "cell_type": "code",
   "execution_count": 1,
   "metadata": {},
   "outputs": [
    {
     "name": "stderr",
     "output_type": "stream",
     "text": [
      "/usr/local/lib/python3.6/site-packages/h5py/__init__.py:36: FutureWarning: Conversion of the second argument of issubdtype from `float` to `np.floating` is deprecated. In future, it will be treated as `np.float64 == np.dtype(float).type`.\n",
      "  from ._conv import register_converters as _register_converters\n"
     ]
    }
   ],
   "source": [
    "import numpy as np\n",
    "import matplotlib.pyplot as plt\n",
    "import h5py\n",
    "import scipy\n",
    "from PIL import Image\n",
    "from scipy import ndimage\n",
    "import utils\n",
    "\n",
    "%matplotlib inline"
   ]
  },
  {
   "cell_type": "code",
   "execution_count": 2,
   "metadata": {},
   "outputs": [
    {
     "name": "stdout",
     "output_type": "stream",
     "text": [
      "X.shape: (209, 64, 64, 3), Y.shape: (209, 1), test_X.shape: (50, 64, 64, 3), test_Y.shape: (50, 1)\n",
      "classes: [b'non-cat' b'cat']\n"
     ]
    }
   ],
   "source": [
    "X, Y, test_X, test_Y, classes = utils.load_dataset()\n",
    "print('X.shape: {}, Y.shape: {}, test_X.shape: {}, test_Y.shape: {}'.format(X.shape, Y.shape, test_X.shape, test_Y.shape))\n",
    "print('classes: {}'.format(classes))"
   ]
  },
  {
   "cell_type": "code",
   "execution_count": 4,
   "metadata": {},
   "outputs": [
    {
     "name": "stdout",
     "output_type": "stream",
     "text": [
      "y=1, it's a cat\n"
     ]
    },
    {
     "data": {
      "image/png": "[encoded data removed]",
      "text/plain": [
       "<matplotlib.figure.Figure at 0x10d397ba8>"
      ]
     },
     "metadata": {},
     "output_type": "display_data"
    }
   ],
   "source": [
    "idx = 2\n",
    "\n",
    "x, y = X[idx], Y[idx][0]\n",
    "cls = classes[y].decode('UTF-8')\n",
    "\n",
    "plt.imshow(X[idx])\n",
    "print('y={}, it\\'s a {}'.format(y, cls))"
   ]
  },
  {
   "cell_type": "code",
   "execution_count": 5,
   "metadata": {},
   "outputs": [
    {
     "name": "stdout",
     "output_type": "stream",
     "text": [
      "X.shape: (209, 12288), Y.shape: (209, 1), test_X.shape: (50, 12288), test_Y.shape: (50, 1)\n"
     ]
    }
   ],
   "source": [
    "X = X.reshape(X.shape[0], -1)\n",
    "test_X = test_X.reshape(test_X.shape[0], -1)\n",
    "print('X.shape: {}, Y.shape: {}, test_X.shape: {}, test_Y.shape: {}'.format(X.shape, Y.shape, test_X.shape, test_Y.shape))"
   ]
  },
  {
   "cell_type": "markdown",
   "metadata": {},
   "source": [
    "<img src=\"images/LogReg_kiank.png\" style=\"width:650px;height:400px;\">\n",
    "\n",
    "**算法的数学表达式**:\n",
    "\n",
    "对于某一张图片 $x^{(i)}$:\n",
    "$$z^{(i)} = w^T x^{(i)} + b \\tag{1}$$\n",
    "$$\\hat{y}^{(i)} = a^{(i)} = sigmoid(z^{(i)})\\tag{2}$$ \n",
    "$$ \\mathcal{L}(a^{(i)}, y^{(i)}) =  - y^{(i)}  \\log(a^{(i)}) - (1-y^{(i)} )  \\log(1-a^{(i)})\\tag{3}$$\n",
    "\n",
    "总损失为所有的图片数据的损失之和：\n",
    "$$ J = \\frac{1}{m} \\sum_{i=1}^m \\mathcal{L}(a^{(i)}, y^{(i)})\\tag{4}$$\n",
    "\n",
    "w和b的梯度为：\n",
    "$$ \\frac{\\partial J}{\\partial w} = \\frac{1}{m}X(A - Y)^T \\tag{5}$$\n",
    "$$ \\frac{\\partial J}{\\partial b} = \\frac{1}{m}\\sum_{i=1}^m(a^{(i)} - y^{(i)}) \\tag{6}$$"
   ]
  },
  {
   "cell_type": "code",
   "execution_count": 13,
   "metadata": {},
   "outputs": [
    {
     "name": "stdout",
     "output_type": "stream",
     "text": [
      "cost after iteration 100: 0.64489788295317\n",
      "train accuracy after iteration 100: 66.51%\n",
      "test accuracy after iteration 100: 84.00%\n",
      "\n",
      "cost after iteration 200: 0.48489361414848486\n",
      "train accuracy after iteration 200: 73.21%\n",
      "test accuracy after iteration 200: 80.00%\n",
      "\n",
      "cost after iteration 300: 0.37776149521638075\n",
      "train accuracy after iteration 300: 84.69%\n",
      "test accuracy after iteration 300: 72.00%\n",
      "\n",
      "cost after iteration 400: 0.3317754055523586\n",
      "train accuracy after iteration 400: 91.39%\n",
      "test accuracy after iteration 400: 68.00%\n",
      "\n",
      "cost after iteration 500: 0.30352867202605527\n",
      "train accuracy after iteration 500: 92.34%\n",
      "test accuracy after iteration 500: 74.00%\n",
      "\n",
      "cost after iteration 600: 0.280094277579675\n",
      "train accuracy after iteration 600: 93.78%\n",
      "test accuracy after iteration 600: 74.00%\n",
      "\n",
      "cost after iteration 700: 0.2602258475628189\n",
      "train accuracy after iteration 700: 95.22%\n",
      "test accuracy after iteration 700: 74.00%\n",
      "\n",
      "cost after iteration 800: 0.24310018399838854\n",
      "train accuracy after iteration 800: 95.69%\n",
      "test accuracy after iteration 800: 74.00%\n",
      "\n",
      "cost after iteration 900: 0.22814432769465362\n",
      "train accuracy after iteration 900: 96.17%\n",
      "test accuracy after iteration 900: 74.00%\n",
      "\n",
      "cost after iteration 1000: 0.21494377069682477\n",
      "train accuracy after iteration 1000: 96.65%\n",
      "test accuracy after iteration 1000: 72.00%\n",
      "\n"
     ]
    }
   ],
   "source": [
    "def propagate(w, b, X, Y):\n",
    "  m = Y.shape[0]\n",
    "  sigmoid = lambda z: 1 / (1 + np.exp(-z))\n",
    "  A = sigmoid(np.dot(X, w) + b)\n",
    "  cost = (1. / m) * np.sum(- np.multiply(Y, np.log(A)) - np.multiply((1. - Y), np.log(1. - A)))\n",
    "  \n",
    "  dw = 1. / m * np.dot((A - Y).T, X).T\n",
    "  db = 1. / m * np.sum(A - Y)\n",
    "  return A, cost, (dw, db)\n",
    "\n",
    "def model(X, Y, test_X, test_Y):\n",
    "  w = np.zeros((X.shape[1], 1))\n",
    "  b = 0\n",
    "  \n",
    "  X = X / 255.0\n",
    "  test_X = test_X / 255.0\n",
    "\n",
    "  num_iterations = 1000\n",
    "  learning_rate = 0.005\n",
    "  \n",
    "  for i in range(num_iterations):\n",
    "    A, cost, (dw, db) = propagate(w, b, X, Y)\n",
    "    w = w - learning_rate * dw\n",
    "    b = b - learning_rate * db\n",
    "    \n",
    "    if (i + 1) % 100 == 0:\n",
    "      print('cost after iteration {}: {}'.format((i + 1), cost))\n",
    "\n",
    "      Y_predict = A > 0.5\n",
    "      accuracy = np.sum(Y_predict == Y) / float(Y.shape[0])\n",
    "      print('train accuracy after iteration {}: {:.2f}%'.format((i + 1), accuracy * 100))\n",
    "      \n",
    "      test_A, _, _ = propagate(w, b, test_X, test_Y)\n",
    "      test_Y_predict = test_A > 0.5\n",
    "      test_accuracy = np.sum(test_Y_predict == test_Y) / float(test_Y.shape[0])\n",
    "      print('test accuracy after iteration {}: {:.2f}%\\n'.format((i + 1), test_accuracy * 100))\n",
    "\n",
    "\n",
    "model(X, Y, test_X, test_Y)"
   ]
  },
  {
   "cell_type": "code",
   "execution_count": null,
   "metadata": {},
   "outputs": [],
   "source": []
  }
 ],
 "metadata": {
  "kernelspec": {
   "display_name": "Python 3",
   "language": "python",
   "name": "python3"
  },
  "language_info": {
   "codemirror_mode": {
    "name": "ipython",
    "version": 3
   },
   "file_extension": ".py",
   "mimetype": "text/x-python",
   "name": "python",
   "nbconvert_exporter": "python",
   "pygments_lexer": "ipython3",
   "version": "3.6.4"
  }
 },
 "nbformat": 4,
 "nbformat_minor": 2
}
